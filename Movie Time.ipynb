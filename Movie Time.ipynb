{
 "cells": [
  {
   "cell_type": "markdown",
   "metadata": {},
   "source": [
    "# **DO-IT-YOURSELF TIME!** \n",
    "\n",
    "## INSTRUCTIONS\n",
    "Build a quick notebook with some information from your favorite movie, or TV show. Make sure to include the following markdown elements (at least):\n",
    "* Pictures \n",
    "* Bullet list \n",
    "* Numbered list\n",
    "* Formatted headings\n",
    "* __*Color*__\n",
    "* __*Pizzazz*__ "
   ]
  },
  {
   "cell_type": "markdown",
   "metadata": {
    "collapsed": true
   },
   "source": [
    "# Example Below"
   ]
  },
  {
   "cell_type": "markdown",
   "metadata": {},
   "source": [
    "# Do you know the greatest movie franchise of all time???\n",
    "\n",
    "## IT IS NOT \n",
    "<img src=\"https://upload.wikimedia.org/wikipedia/commons/thumb/6/6c/Star_Wars_Logo.svg/1200px-Star_Wars_Logo.svg.png\" alt=\"STAR WARS\" />\n",
    "--- \n",
    "### OR ...\n",
    "<img src=\"http://images.amcnetworks.com/ifc.com/wp-content/uploads/2012/06/062612-indiana-jones.jpg\"/>\n",
    "--- \n",
    "### OR ... \n",
    "<img src=\"https://images-na.ssl-images-amazon.com/images/M/MV5BMTkyMjQ4ODk1NF5BMl5BanBnXkFtZTcwMjcxMTk2Mw@@._V1_SY1000_SX625_AL_.jpg\"/>\n",
    "---\n",
    "\n",
    "# IT IS... \n",
    "# *[Fast and Furious] [ff]* !!!!\n",
    "[ff]: https://en.wikipedia.org/wiki/The_Fast_and_the_Furious\n",
    " \n",
    " \n",
    "# BUT WHY???\n",
    "\n",
    "## HERE'S THE TOP ~~8~~ 3 REASONS FOR MY DECISION\n",
    "1. [Vin Diesel] [vd] - Hits like \"The Pacifier\" and \"The Last Witch Hunter\" were nothing without his raw talent to don a white tanktop with and be the ultimate \"hero\".\n",
    "[vd]: http://www.imdb.com/name/nm0004874/\n",
    "\n",
    "2. [Paul Walker] [pw] - RIP Paul Walker; this actor was the hunkiest of all !! <3 \n",
    "[pw]: www.imdb.com/name/nm0908094\n",
    "\n",
    "3. [Dwayne \"The Rock\" Johnson] [dj] - \"Can you guess what movie Dwayne Johnson is going to be next?\" \"I can't either!!\"\n",
    "[dj]: www.imdb.com/name/nm0425005/\n"
   ]
  },
  {
   "cell_type": "code",
   "execution_count": null,
   "metadata": {
    "collapsed": true
   },
   "outputs": [],
   "source": []
  }
 ],
 "metadata": {
  "kernelspec": {
   "display_name": "Python 2",
   "language": "python",
   "name": "python2"
  },
  "language_info": {
   "codemirror_mode": {
    "name": "ipython",
    "version": 2
   },
   "file_extension": ".py",
   "mimetype": "text/x-python",
   "name": "python",
   "nbconvert_exporter": "python",
   "pygments_lexer": "ipython2",
   "version": "2.7.13"
  }
 },
 "nbformat": 4,
 "nbformat_minor": 2
}
