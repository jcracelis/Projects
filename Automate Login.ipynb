{
 "cells": [
  {
   "cell_type": "code",
   "execution_count": 32,
   "metadata": {},
   "outputs": [
    {
     "name": "stdout",
     "output_type": "stream",
     "text": [
      "[]\n"
     ]
    }
   ],
   "source": [
    "from selenium.webdriver import Chrome\n",
    "from selenium.webdriver.common.keys import Keys\n",
    "\n",
    "browser = Chrome()\n",
    "browser.get('http://www.fidelity.com/')\n",
    "assert 'Fidelity' in browser.title\n",
    "\n",
    "idElement = browser.find_element_by_id(\"userId-input\")\n",
    "pwdElement = browser.find_element_by_id(\"password\")\n",
    "\n",
    "uid='jracelis1'\n",
    "pwd='King1848LJ!'\n",
    "\n",
    "idElement.send_keys(\"%s\" % uid)\n",
    "pwdElement.send_keys(\"%s\" % pwd)\n",
    "idElement.send_keys(Keys.RETURN)\n",
    "pwdElement.send_keys(Keys.RETURN)"
   ]
  },
  {
   "cell_type": "code",
   "execution_count": 33,
   "metadata": {},
   "outputs": [],
   "source": [
    "browser.quit()"
   ]
  },
  {
   "cell_type": "code",
   "execution_count": null,
   "metadata": {},
   "outputs": [],
   "source": []
  },
  {
   "cell_type": "code",
   "execution_count": null,
   "metadata": {},
   "outputs": [],
   "source": []
  }
 ],
 "metadata": {
  "kernelspec": {
   "display_name": "Python 3",
   "language": "python",
   "name": "python3"
  },
  "language_info": {
   "codemirror_mode": {
    "name": "ipython",
    "version": 3
   },
   "file_extension": ".py",
   "mimetype": "text/x-python",
   "name": "python",
   "nbconvert_exporter": "python",
   "pygments_lexer": "ipython3",
   "version": "3.6.3"
  }
 },
 "nbformat": 4,
 "nbformat_minor": 2
}
