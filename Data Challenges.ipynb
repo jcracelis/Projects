{
 "cells": [
  {
   "cell_type": "code",
   "execution_count": 7,
   "metadata": {},
   "outputs": [],
   "source": [
    "import pygsheets\n",
    "import pandas as pd\n",
    "import numpy as np\n",
    "import matplotlib.pyplot as plt"
   ]
  },
  {
   "cell_type": "code",
   "execution_count": 2,
   "metadata": {},
   "outputs": [],
   "source": [
    "gc = pygsheets.authorize(outh_file='client-id.json')"
   ]
  },
  {
   "cell_type": "code",
   "execution_count": 3,
   "metadata": {},
   "outputs": [],
   "source": [
    "sh = gc.list_ssheets()"
   ]
  },
  {
   "cell_type": "code",
   "execution_count": 4,
   "metadata": {},
   "outputs": [],
   "source": [
    "sh.reverse()"
   ]
  },
  {
   "cell_type": "code",
   "execution_count": 5,
   "metadata": {},
   "outputs": [
    {
     "data": {
      "text/plain": [
       "[{'id': '192XaPS6Qr3aM0vs_RZOg3cb3wSnLPJsWCb-AnEYmqp8',\n",
       "  'name': 'TNF Raw Data'},\n",
       " {'id': '1AzeMpjuBlVrdnUh3DQV5QJiQ9yf395u2Pg_1DQz1zZ4',\n",
       "  'name': 'Activity Data - Scott Person'},\n",
       " {'id': '1claGDjIo7xLl5v7naJUenDP7CJYX4HvPVOqhb_fmkDQ',\n",
       "  'name': 'ActivityData - JCR'},\n",
       " {'id': '16zPLy8WHojnzAXlse8zokYWZj-dyK461F_JDRb_rLDY',\n",
       "  'name': 'Activity Data - Jess'},\n",
       " {'id': '1SCjCH-yVtmI0-7FdCsbcfNu7q2Xgma9MRE_q00766Yc',\n",
       "  'name': 'John Racelis PTO'}]"
      ]
     },
     "execution_count": 5,
     "metadata": {},
     "output_type": "execute_result"
    }
   ],
   "source": [
    "element = sh\n",
    "element"
   ]
  },
  {
   "cell_type": "code",
   "execution_count": 6,
   "metadata": {},
   "outputs": [
    {
     "name": "stdout",
     "output_type": "stream",
     "text": [
      "1 {'id': '192XaPS6Qr3aM0vs_RZOg3cb3wSnLPJsWCb-AnEYmqp8', 'name': 'TNF Raw Data'}\n",
      "2 {'id': '1AzeMpjuBlVrdnUh3DQV5QJiQ9yf395u2Pg_1DQz1zZ4', 'name': 'Activity Data - Scott Person'}\n",
      "3 {'id': '1claGDjIo7xLl5v7naJUenDP7CJYX4HvPVOqhb_fmkDQ', 'name': 'ActivityData - JCR'}\n",
      "4 {'id': '16zPLy8WHojnzAXlse8zokYWZj-dyK461F_JDRb_rLDY', 'name': 'Activity Data - Jess'}\n",
      "5 {'id': '1SCjCH-yVtmI0-7FdCsbcfNu7q2Xgma9MRE_q00766Yc', 'name': 'John Racelis PTO'}\n"
     ]
    }
   ],
   "source": [
    "i = 1\n",
    "for e in element:\n",
    "    print (i,e)\n",
    "    i = i+1\n",
    "    "
   ]
  }
 ],
 "metadata": {
  "kernelspec": {
   "display_name": "Python 3",
   "language": "python",
   "name": "python3"
  },
  "language_info": {
   "codemirror_mode": {
    "name": "ipython",
    "version": 3
   },
   "file_extension": ".py",
   "mimetype": "text/x-python",
   "name": "python",
   "nbconvert_exporter": "python",
   "pygments_lexer": "ipython3",
   "version": "3.6.3"
  }
 },
 "nbformat": 4,
 "nbformat_minor": 2
}
